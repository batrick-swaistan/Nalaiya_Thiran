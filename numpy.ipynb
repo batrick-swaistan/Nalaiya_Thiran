{
 "cells": [
  {
   "cell_type": "code",
   "execution_count": 5,
   "id": "5508a8de",
   "metadata": {},
   "outputs": [],
   "source": [
    "import numpy as np  #try install numpy using pip: pip install numpy"
   ]
  },
  {
   "cell_type": "code",
   "execution_count": 6,
   "id": "8479c948",
   "metadata": {},
   "outputs": [],
   "source": [
    "a=np.array([1,2,3,4,5]) #one-dimensional array"
   ]
  },
  {
   "cell_type": "code",
   "execution_count": 8,
   "id": "0d74292c",
   "metadata": {},
   "outputs": [
    {
     "data": {
      "text/plain": [
       "array([1, 2, 3, 4, 5])"
      ]
     },
     "execution_count": 8,
     "metadata": {},
     "output_type": "execute_result"
    }
   ],
   "source": [
    "a"
   ]
  },
  {
   "cell_type": "code",
   "execution_count": 10,
   "id": "2c125fd6",
   "metadata": {},
   "outputs": [
    {
     "data": {
      "text/plain": [
       "1"
      ]
     },
     "execution_count": 10,
     "metadata": {},
     "output_type": "execute_result"
    }
   ],
   "source": [
    "a.ndim  #dimension of array"
   ]
  },
  {
   "cell_type": "code",
   "execution_count": 19,
   "id": "dc7e6331",
   "metadata": {},
   "outputs": [],
   "source": [
    "b=np.array([[1,2,3],[4,5,6]]) #two-dimensional array"
   ]
  },
  {
   "cell_type": "code",
   "execution_count": 20,
   "id": "6ead7ee5",
   "metadata": {},
   "outputs": [
    {
     "data": {
      "text/plain": [
       "array([[1, 2, 3],\n",
       "       [4, 5, 6]])"
      ]
     },
     "execution_count": 20,
     "metadata": {},
     "output_type": "execute_result"
    }
   ],
   "source": [
    "b"
   ]
  },
  {
   "cell_type": "code",
   "execution_count": 21,
   "id": "778dc64f",
   "metadata": {},
   "outputs": [
    {
     "data": {
      "text/plain": [
       "2"
      ]
     },
     "execution_count": 21,
     "metadata": {},
     "output_type": "execute_result"
    }
   ],
   "source": [
    "b.ndim"
   ]
  },
  {
   "cell_type": "code",
   "execution_count": 22,
   "id": "d519d45b",
   "metadata": {},
   "outputs": [],
   "source": [
    "c=np.array([[1,2,3],[4,5,6],[7,8,9]]) #three-dimensional array"
   ]
  },
  {
   "cell_type": "code",
   "execution_count": 25,
   "id": "9023f749",
   "metadata": {},
   "outputs": [
    {
     "data": {
      "text/plain": [
       "2"
      ]
     },
     "execution_count": 25,
     "metadata": {},
     "output_type": "execute_result"
    }
   ],
   "source": [
    "c.ndim"
   ]
  },
  {
   "cell_type": "markdown",
   "id": "764afc96",
   "metadata": {},
   "source": [
    "# Zeros nd one's func"
   ]
  },
  {
   "cell_type": "code",
   "execution_count": 27,
   "id": "b8546c47",
   "metadata": {},
   "outputs": [],
   "source": [
    "d=np.zeros(10)"
   ]
  },
  {
   "cell_type": "code",
   "execution_count": 30,
   "id": "51df2c96",
   "metadata": {},
   "outputs": [
    {
     "data": {
      "text/plain": [
       "array([0., 0., 0., 0., 0., 0., 0., 0., 0., 0.])"
      ]
     },
     "execution_count": 30,
     "metadata": {},
     "output_type": "execute_result"
    }
   ],
   "source": [
    "d"
   ]
  },
  {
   "cell_type": "code",
   "execution_count": 33,
   "id": "6548023f",
   "metadata": {},
   "outputs": [
    {
     "name": "stdout",
     "output_type": "stream",
     "text": [
      "float64\n"
     ]
    }
   ],
   "source": [
    "print(d.dtype) #data type of the array"
   ]
  },
  {
   "cell_type": "code",
   "execution_count": 35,
   "id": "e0844fe9",
   "metadata": {},
   "outputs": [
    {
     "name": "stdout",
     "output_type": "stream",
     "text": [
      "[[0. 0.]\n",
      " [0. 0.]\n",
      " [0. 0.]\n",
      " [0. 0.]\n",
      " [0. 0.]]\n"
     ]
    }
   ],
   "source": [
    "print(d.reshape(5,2)) #5 rows and 2 columns(reshaping)"
   ]
  },
  {
   "cell_type": "code",
   "execution_count": 37,
   "id": "17820a3b",
   "metadata": {},
   "outputs": [],
   "source": [
    "e=np.zeros(15,dtype=int) #setting data type for zero func"
   ]
  },
  {
   "cell_type": "code",
   "execution_count": 39,
   "id": "4209b41e",
   "metadata": {},
   "outputs": [
    {
     "data": {
      "text/plain": [
       "array([0, 0, 0, 0, 0, 0, 0, 0, 0, 0, 0, 0, 0, 0, 0])"
      ]
     },
     "execution_count": 39,
     "metadata": {},
     "output_type": "execute_result"
    }
   ],
   "source": [
    "e"
   ]
  },
  {
   "cell_type": "code",
   "execution_count": 41,
   "id": "58bde54f",
   "metadata": {},
   "outputs": [],
   "source": [
    "f=np.zeros((4,6),int) #2-dim numpy array"
   ]
  },
  {
   "cell_type": "code",
   "execution_count": 43,
   "id": "3f6fb091",
   "metadata": {},
   "outputs": [
    {
     "data": {
      "text/plain": [
       "array([[0, 0, 0, 0, 0, 0],\n",
       "       [0, 0, 0, 0, 0, 0],\n",
       "       [0, 0, 0, 0, 0, 0],\n",
       "       [0, 0, 0, 0, 0, 0]])"
      ]
     },
     "execution_count": 43,
     "metadata": {},
     "output_type": "execute_result"
    }
   ],
   "source": [
    "f"
   ]
  },
  {
   "cell_type": "code",
   "execution_count": 46,
   "id": "e081d6e8",
   "metadata": {},
   "outputs": [
    {
     "data": {
      "text/plain": [
       "dtype('int64')"
      ]
     },
     "execution_count": 46,
     "metadata": {},
     "output_type": "execute_result"
    }
   ],
   "source": [
    "f.dtype"
   ]
  },
  {
   "cell_type": "code",
   "execution_count": 48,
   "id": "e599fbc8",
   "metadata": {},
   "outputs": [],
   "source": [
    "g=np.zeros((3,5,2)) # 3-array 5-row 2-column"
   ]
  },
  {
   "cell_type": "code",
   "execution_count": 50,
   "id": "6131e230",
   "metadata": {},
   "outputs": [
    {
     "data": {
      "text/plain": [
       "array([[[0., 0.],\n",
       "        [0., 0.],\n",
       "        [0., 0.],\n",
       "        [0., 0.],\n",
       "        [0., 0.]],\n",
       "\n",
       "       [[0., 0.],\n",
       "        [0., 0.],\n",
       "        [0., 0.],\n",
       "        [0., 0.],\n",
       "        [0., 0.]],\n",
       "\n",
       "       [[0., 0.],\n",
       "        [0., 0.],\n",
       "        [0., 0.],\n",
       "        [0., 0.],\n",
       "        [0., 0.]]])"
      ]
     },
     "execution_count": 50,
     "metadata": {},
     "output_type": "execute_result"
    }
   ],
   "source": [
    "g"
   ]
  },
  {
   "cell_type": "code",
   "execution_count": 52,
   "id": "8cddb532",
   "metadata": {},
   "outputs": [
    {
     "data": {
      "text/plain": [
       "3"
      ]
     },
     "execution_count": 52,
     "metadata": {},
     "output_type": "execute_result"
    }
   ],
   "source": [
    "g.ndim"
   ]
  },
  {
   "cell_type": "markdown",
   "id": "84bac7b6",
   "metadata": {},
   "source": [
    "# one's func"
   ]
  },
  {
   "cell_type": "code",
   "execution_count": 53,
   "id": "1d539482",
   "metadata": {},
   "outputs": [],
   "source": [
    "h=np.ones(10)"
   ]
  },
  {
   "cell_type": "code",
   "execution_count": 55,
   "id": "205f6c46",
   "metadata": {},
   "outputs": [
    {
     "data": {
      "text/plain": [
       "array([1., 1., 1., 1., 1., 1., 1., 1., 1., 1.])"
      ]
     },
     "execution_count": 55,
     "metadata": {},
     "output_type": "execute_result"
    }
   ],
   "source": [
    "h"
   ]
  },
  {
   "cell_type": "code",
   "execution_count": 59,
   "id": "9e6ee0be",
   "metadata": {},
   "outputs": [],
   "source": [
    "i=np.ones((4,2,6),int)"
   ]
  },
  {
   "cell_type": "code",
   "execution_count": 61,
   "id": "1bd69165",
   "metadata": {},
   "outputs": [
    {
     "data": {
      "text/plain": [
       "array([[[1, 1, 1, 1, 1, 1],\n",
       "        [1, 1, 1, 1, 1, 1]],\n",
       "\n",
       "       [[1, 1, 1, 1, 1, 1],\n",
       "        [1, 1, 1, 1, 1, 1]],\n",
       "\n",
       "       [[1, 1, 1, 1, 1, 1],\n",
       "        [1, 1, 1, 1, 1, 1]],\n",
       "\n",
       "       [[1, 1, 1, 1, 1, 1],\n",
       "        [1, 1, 1, 1, 1, 1]]])"
      ]
     },
     "execution_count": 61,
     "metadata": {},
     "output_type": "execute_result"
    }
   ],
   "source": [
    "i"
   ]
  },
  {
   "cell_type": "markdown",
   "id": "f658043e",
   "metadata": {},
   "source": [
    "# arry func"
   ]
  },
  {
   "cell_type": "code",
   "execution_count": 62,
   "id": "a631f74b",
   "metadata": {},
   "outputs": [],
   "source": [
    "var=np.array([77,99,88])"
   ]
  },
  {
   "cell_type": "code",
   "execution_count": 64,
   "id": "957719e5",
   "metadata": {},
   "outputs": [
    {
     "data": {
      "text/plain": [
       "array([77, 99, 88])"
      ]
     },
     "execution_count": 64,
     "metadata": {},
     "output_type": "execute_result"
    }
   ],
   "source": [
    "var"
   ]
  },
  {
   "cell_type": "code",
   "execution_count": 66,
   "id": "ee83b155",
   "metadata": {},
   "outputs": [
    {
     "data": {
      "text/plain": [
       "numpy.ndarray"
      ]
     },
     "execution_count": 66,
     "metadata": {},
     "output_type": "execute_result"
    }
   ],
   "source": [
    "type(var)"
   ]
  },
  {
   "cell_type": "code",
   "execution_count": 68,
   "id": "4991fbac",
   "metadata": {},
   "outputs": [
    {
     "data": {
      "text/plain": [
       "0"
      ]
     },
     "execution_count": 68,
     "metadata": {},
     "output_type": "execute_result"
    }
   ],
   "source": [
    "var.argmin() #returning the minimum value'th position"
   ]
  },
  {
   "cell_type": "code",
   "execution_count": 70,
   "id": "fc149fe4",
   "metadata": {},
   "outputs": [
    {
     "data": {
      "text/plain": [
       "1"
      ]
     },
     "execution_count": 70,
     "metadata": {},
     "output_type": "execute_result"
    }
   ],
   "source": [
    "var.argmax() #returning the maximum value'th position"
   ]
  },
  {
   "cell_type": "code",
   "execution_count": 72,
   "id": "b9dda019",
   "metadata": {},
   "outputs": [
    {
     "data": {
      "text/plain": [
       "dtype('int64')"
      ]
     },
     "execution_count": 72,
     "metadata": {},
     "output_type": "execute_result"
    }
   ],
   "source": [
    "var.dtype"
   ]
  },
  {
   "cell_type": "code",
   "execution_count": 74,
   "id": "9fec47c4",
   "metadata": {},
   "outputs": [
    {
     "data": {
      "text/plain": [
       "88"
      ]
     },
     "execution_count": 74,
     "metadata": {},
     "output_type": "execute_result"
    }
   ],
   "source": [
    "var[2] #indexing"
   ]
  },
  {
   "cell_type": "code",
   "execution_count": 78,
   "id": "23b6e70b",
   "metadata": {},
   "outputs": [
    {
     "data": {
      "text/plain": [
       "array([77, 99, 88])"
      ]
     },
     "execution_count": 78,
     "metadata": {},
     "output_type": "execute_result"
    }
   ],
   "source": [
    "var[0:] #slicing"
   ]
  },
  {
   "cell_type": "code",
   "execution_count": 80,
   "id": "8592b318",
   "metadata": {},
   "outputs": [
    {
     "data": {
      "text/plain": [
       "array([77])"
      ]
     },
     "execution_count": 80,
     "metadata": {},
     "output_type": "execute_result"
    }
   ],
   "source": [
    "var[0:1]"
   ]
  },
  {
   "cell_type": "code",
   "execution_count": 82,
   "id": "3f7951b6",
   "metadata": {},
   "outputs": [
    {
     "data": {
      "text/plain": [
       "array([77, 99])"
      ]
     },
     "execution_count": 82,
     "metadata": {},
     "output_type": "execute_result"
    }
   ],
   "source": [
    "var[0:2]"
   ]
  },
  {
   "cell_type": "code",
   "execution_count": 84,
   "id": "1d9be954",
   "metadata": {},
   "outputs": [
    {
     "data": {
      "text/plain": [
       "array([77, 99, 88])"
      ]
     },
     "execution_count": 84,
     "metadata": {},
     "output_type": "execute_result"
    }
   ],
   "source": [
    "var[0:3]"
   ]
  },
  {
   "cell_type": "code",
   "execution_count": 86,
   "id": "aeb018dd",
   "metadata": {},
   "outputs": [],
   "source": [
    "var[2]=105"
   ]
  },
  {
   "cell_type": "code",
   "execution_count": 88,
   "id": "8f8e06f5",
   "metadata": {},
   "outputs": [
    {
     "data": {
      "text/plain": [
       "array([ 77,  99, 105])"
      ]
     },
     "execution_count": 88,
     "metadata": {},
     "output_type": "execute_result"
    }
   ],
   "source": [
    "var"
   ]
  },
  {
   "cell_type": "markdown",
   "id": "f955332d",
   "metadata": {},
   "source": [
    "Reshape and Resize func"
   ]
  },
  {
   "cell_type": "code",
   "execution_count": 91,
   "id": "2b23917d",
   "metadata": {},
   "outputs": [
    {
     "data": {
      "text/plain": [
       "array([ 0,  1,  2,  3,  4,  5,  6,  7,  8,  9, 10, 11])"
      ]
     },
     "execution_count": 91,
     "metadata": {},
     "output_type": "execute_result"
    }
   ],
   "source": [
    "j=np.arange(12)\n",
    "\n",
    "j"
   ]
  },
  {
   "cell_type": "code",
   "execution_count": 93,
   "id": "579b8f28",
   "metadata": {},
   "outputs": [
    {
     "data": {
      "text/plain": [
       "array([[ 0,  1,  2],\n",
       "       [ 3,  4,  5],\n",
       "       [ 6,  7,  8],\n",
       "       [ 9, 10, 11]])"
      ]
     },
     "execution_count": 93,
     "metadata": {},
     "output_type": "execute_result"
    }
   ],
   "source": [
    "j.reshape(4,3)"
   ]
  },
  {
   "cell_type": "code",
   "execution_count": 108,
   "id": "50bfc18c",
   "metadata": {},
   "outputs": [
    {
     "data": {
      "text/plain": [
       "array([[ 0,  1,  2,  3,  4,  5],\n",
       "       [ 6,  7,  8,  9, 10, 11]])"
      ]
     },
     "execution_count": 108,
     "metadata": {},
     "output_type": "execute_result"
    }
   ],
   "source": [
    "j.reshape(2,6)"
   ]
  },
  {
   "cell_type": "code",
   "execution_count": 110,
   "id": "909427bf",
   "metadata": {},
   "outputs": [
    {
     "data": {
      "text/plain": [
       "66"
      ]
     },
     "execution_count": 110,
     "metadata": {},
     "output_type": "execute_result"
    }
   ],
   "source": [
    "j.sum() #sum of the array"
   ]
  },
  {
   "cell_type": "code",
   "execution_count": 111,
   "id": "ab48a431",
   "metadata": {},
   "outputs": [
    {
     "data": {
      "text/plain": [
       "11"
      ]
     },
     "execution_count": 111,
     "metadata": {},
     "output_type": "execute_result"
    }
   ],
   "source": [
    "j.max() #maximum of number"
   ]
  },
  {
   "cell_type": "code",
   "execution_count": 112,
   "id": "b84305da",
   "metadata": {},
   "outputs": [
    {
     "data": {
      "text/plain": [
       "0"
      ]
     },
     "execution_count": 112,
     "metadata": {},
     "output_type": "execute_result"
    }
   ],
   "source": [
    "j.min() #minimum of number"
   ]
  },
  {
   "cell_type": "code",
   "execution_count": 113,
   "id": "8b95c236",
   "metadata": {},
   "outputs": [],
   "source": [
    "k=125"
   ]
  },
  {
   "cell_type": "code",
   "execution_count": 115,
   "id": "48b10320",
   "metadata": {},
   "outputs": [
    {
     "data": {
      "text/plain": [
       "11.180339887498949"
      ]
     },
     "execution_count": 115,
     "metadata": {},
     "output_type": "execute_result"
    }
   ],
   "source": [
    "np.sqrt(k) "
   ]
  },
  {
   "cell_type": "code",
   "execution_count": 116,
   "id": "a7dc30e0",
   "metadata": {},
   "outputs": [
    {
     "data": {
      "text/plain": [
       "4.8283137373023015"
      ]
     },
     "execution_count": 116,
     "metadata": {},
     "output_type": "execute_result"
    }
   ],
   "source": [
    "np.log(k)"
   ]
  }
 ],
 "metadata": {
  "kernelspec": {
   "display_name": "Python 3 (ipykernel)",
   "language": "python",
   "name": "python3"
  },
  "language_info": {
   "codemirror_mode": {
    "name": "ipython",
    "version": 3
   },
   "file_extension": ".py",
   "mimetype": "text/x-python",
   "name": "python",
   "nbconvert_exporter": "python",
   "pygments_lexer": "ipython3",
   "version": "3.9.2"
  }
 },
 "nbformat": 4,
 "nbformat_minor": 5
}
